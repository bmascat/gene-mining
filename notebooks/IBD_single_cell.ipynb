{
 "cells": [
  {
   "cell_type": "code",
   "execution_count": null,
   "metadata": {
    "vscode": {
     "languageId": "r"
    }
   },
   "outputs": [],
   "source": [
    "if (!require(\"BiocManager\", quietly = TRUE))\n",
    "    install.packages(\"BiocManager\")"
   ]
  },
  {
   "cell_type": "code",
   "execution_count": null,
   "metadata": {
    "vscode": {
     "languageId": "r"
    }
   },
   "outputs": [],
   "source": [
    "bio_libraries <- c('CuratedAtlasQueryR','dittoSeq','Seurat','tidySingleCellExperiment')\n",
    "libraries <- c('tidyverse','reshape2','scater','cowplot','scales','ggrepel', 'ggpubr','rstatix', 'scales', 'ggplot2')\n",
    "lapply(bio_libraries,BiocManager::install, character.only = TRUE)\n",
    "lapply(libraries, install.packages, character.only = TRUE)"
   ]
  },
  {
   "cell_type": "code",
   "execution_count": null,
   "metadata": {
    "vscode": {
     "languageId": "r"
    }
   },
   "outputs": [],
   "source": [
    "#Load libraries\n",
    "lapply(libraries, library, character.only = TRUE)\n",
    "lapply(bio_libraries, library, character.only = TRUE)\n",
    "\n",
    "#Set working directory\n",
    "cache_dir = \"~/tmp\" # specify the cache directory if you don't want to use default\n",
    "\n",
    "#Load data\n",
    "metadata <- get_metadata()\n",
    "Overlapping_genes_alldb <- read.table(\"./results/common_IBD_genes.txt\", quote=\"\\\"\", comment.char=\"\")"
   ]
  },
  {
   "cell_type": "code",
   "execution_count": null,
   "metadata": {
    "vscode": {
     "languageId": "r"
    }
   },
   "outputs": [],
   "source": [
    "#Filter data from sigmoid colon\n",
    "features <- Overlapping_genes_alldb$V1\n",
    "\n",
    "single_cell_counts <- metadata |>\n",
    "                            dplyr::filter(\n",
    "                                stringr::str_like(assay, \"%10x%\") &\n",
    "                                tissue == \"sigmoid colon\"\n",
    "                            ) |> get_seurat(features = features)\n",
    "\n",
    "                            # get_SingleCellExperiment(assays = \"cpm\", features = as.character(features), cache_directory = cache_dir) \n",
    "\n",
    "single_cell_counts |> saveRDS(\"./results/single_cell_total_counts_sigmoid_colon_seurat.rds\")\n",
    "single_cell_counts <- readRDS(\"./results/single_cell_total_counts_sigmoid_colon_seurat.rds\")"
   ]
  },
  {
   "cell_type": "code",
   "execution_count": null,
   "metadata": {
    "vscode": {
     "languageId": "r"
    }
   },
   "outputs": [],
   "source": [
    "# Visualize QC metrics as a violin plot\n",
    "single_cell_counts[[\"percent.mt\"]] <- PercentageFeatureSet(single_cell_counts, pattern = \"^MT-\")\n",
    "\n",
    "VlnPlot(single_cell_counts, features = c(\"nFeature_originalexp\", \"nCount_originalexp\", \"percent.mt\"), ncol = 3)\n",
    "FeatureScatter(single_cell_counts, feature1 = \"nCount_originalexp\", feature2 = \"nFeature_originalexp\")"
   ]
  },
  {
   "cell_type": "code",
   "execution_count": null,
   "metadata": {
    "vscode": {
     "languageId": "r"
    }
   },
   "outputs": [],
   "source": [
    "#Analyze data from sigmoid colon\n",
    "single_cell_counts <- NormalizeData(object = single_cell_counts)\n",
    "single_cell_counts <- FindVariableFeatures(object = single_cell_counts)\n",
    "single_cell_counts <- ScaleData(object = single_cell_counts)\n",
    "single_cell_counts <- RunPCA(object = single_cell_counts)\n",
    "single_cell_counts <- FindNeighbors(object = single_cell_counts, dims = 1:30)\n",
    "single_cell_counts <- FindClusters(object = single_cell_counts)\n",
    "single_cell_counts <- RunUMAP(object = single_cell_counts, dims = 1:30)"
   ]
  },
  {
   "cell_type": "code",
   "execution_count": null,
   "metadata": {
    "vscode": {
     "languageId": "r"
    }
   },
   "outputs": [],
   "source": [
    "#Save data\n",
    "single_cell_counts |> saveRDS(\"./results/single_cell_total_counts_sigmoid_colon_seurat_analized.rds\")\n",
    "single_cell_counts <- readRDS(\"./results/single_cell_total_counts_sigmoid_colon_seurat_analized.rds\")"
   ]
  },
  {
   "cell_type": "code",
   "execution_count": null,
   "metadata": {
    "vscode": {
     "languageId": "r"
    }
   },
   "outputs": [],
   "source": [
    "umap_sig_colon <- DimPlot(object = single_cell_counts, reduction = \"umap\", group.by = \"cell_type_harmonised\" )+\n",
    "                          ggtitle(\"Sigmoidal Colon\")+\n",
    "                          theme_bw()\n",
    "umap_sig_colon\n",
    "\n",
    "pdf(file=paste0(\"./figures/\",\"umap_sig_colon_total_cell_type.pdf\"), width=7, height=6)\n",
    "umap_sig_colon\n",
    "dev.off()"
   ]
  },
  {
   "cell_type": "code",
   "execution_count": null,
   "metadata": {
    "vscode": {
     "languageId": "r"
    }
   },
   "outputs": [],
   "source": [
    "# Single cell heatmap of feature expression\n",
    "single_cell_counts.markers <- FindAllMarkers(single_cell_counts, only.pos = TRUE)\n",
    "\n",
    "single_cell_counts.markers %>%\n",
    "                          group_by(cluster) %>%\n",
    "                          slice_head(n = 10) %>%\n",
    "                          ungroup() -> top10\n",
    "\n",
    "heatmap1 <- DoHeatmap(subset(single_cell_counts, downsample = 100), features = features, group.by = \"cell_type_harmonised\")\n",
    "heatmap1\n",
    "\n",
    "pdf(file=paste0(\"./\",\"heatmap_Sigmoidal_colon_IBD_genes_cell_type.pdf\"), width=15, height=10)\n",
    "heatmap1\n",
    "dev.off()"
   ]
  },
  {
   "cell_type": "code",
   "execution_count": null,
   "metadata": {
    "vscode": {
     "languageId": "r"
    }
   },
   "outputs": [],
   "source": [
    "pdf(file=paste0(\"./figures/\",\"UMAP_Sigmoidal_colon_top_10_IBD_genes.pdf\"), width=15, height=10)\n",
    "FeaturePlot(single_cell_counts, features = c(\"NOD2\",\"ATGL16L1\",\"IL23R\", \"IRGM\", \"TNFSF15\", \"IL10\", \"TLR4\",\"VEGFA\",\"PTPN2\",\"STAT3\"))\n",
    "dev.off()"
   ]
  }
 ],
 "metadata": {
  "kernelspec": {
   "display_name": "R",
   "language": "R",
   "name": "ir"
  },
  "language_info": {
   "codemirror_mode": "r",
   "file_extension": ".r",
   "mimetype": "text/x-r-source",
   "name": "R",
   "pygments_lexer": "r",
   "version": "4.4.1"
  }
 },
 "nbformat": 4,
 "nbformat_minor": 2
}
